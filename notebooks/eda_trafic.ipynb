{
 "cells": [
  {
   "cell_type": "code",
   "execution_count": 12,
   "metadata": {},
   "outputs": [],
   "source": [
    "import pandas as pd\n",
    "import numpy as np\n",
    "import matplotlib.pyplot as plt\n",
    "import seaborn as sns\n",
    "import os\n",
    "\n",
    "%matplotlib inline\n",
    "\n",
    "# some settings for graphics\n",
    "sns.set_style(\"dark\")\n",
    "sns.set(rc={'figure.figsize':(12,4)})\n",
    "\n",
    "# use this value where it is possible to indicate the random state\n",
    "RANDOM_STATE = 42"
   ]
  },
  {
   "cell_type": "code",
   "execution_count": 39,
   "metadata": {},
   "outputs": [],
   "source": [
    "import sys  \n",
    "sys.path.insert(1, '..')"
   ]
  },
  {
   "cell_type": "code",
   "execution_count": 31,
   "metadata": {},
   "outputs": [],
   "source": [
    "import common"
   ]
  },
  {
   "cell_type": "code",
   "execution_count": 32,
   "metadata": {},
   "outputs": [],
   "source": [
    "%%capture\n",
    "!wget https://github.com/eishkina-estia/ML2023/raw/main/data/New_York_City_Taxi_Trip_Duration.zip"
   ]
  },
  {
   "cell_type": "code",
   "execution_count": 37,
   "metadata": {},
   "outputs": [],
   "source": [
    "path = 'New_York_City_Taxi_Trip_Duration.zip'\n",
    "data = pd.read_csv(path, compression='zip')\n",
    "os.remove(path)"
   ]
  },
  {
   "cell_type": "code",
   "execution_count": 45,
   "metadata": {},
   "outputs": [],
   "source": [
    "from prepocess.data_preprocess import pickup_datetime\n",
    "data = pickup_datetime(data)\n"
   ]
  },
  {
   "cell_type": "code",
   "execution_count": 46,
   "metadata": {},
   "outputs": [
    {
     "data": {
      "text/plain": [
       "(1166915, 11)"
      ]
     },
     "metadata": {},
     "output_type": "display_data"
    },
    {
     "data": {
      "text/plain": [
       "(291729, 11)"
      ]
     },
     "metadata": {},
     "output_type": "display_data"
    }
   ],
   "source": [
    "from sklearn.model_selection import train_test_split\n",
    "\n",
    "X = data.drop(columns=['trip_duration'])\n",
    "\n",
    "y = data['trip_duration']\n",
    "data_train, data_test = train_test_split(data, test_size=0.2, random_state=common.RANDOM_STATE)\n",
    "display(data_train.shape, data_test.shape)"
   ]
  },
  {
   "cell_type": "code",
   "execution_count": 47,
   "metadata": {},
   "outputs": [
    {
     "name": "stdout",
     "output_type": "stream",
     "text": [
      "Saving train and test data to a database: /Users/souleymanedabone/Desktop/Estia/CI_CD/mlops/trafic_parterm/db/trafic_db.db\n"
     ]
    }
   ],
   "source": [
    "import sqlite3\n",
    "import os\n",
    "\n",
    "db_dir = os.path.dirname(common.DB_PATH)\n",
    "if not os.path.exists(db_dir):\n",
    "    os.makedirs(db_dir)\n",
    "\n",
    "print(f\"Saving train and test data to a database: {common.DB_PATH}\")\n",
    "with sqlite3.connect(common.DB_PATH) as con:\n",
    "    # cur = con.cursor()\n",
    "    # cur.execute(\"DROP TABLE IF EXISTS train\")\n",
    "    # cur.execute(\"DROP TABLE IF EXISTS test\")\n",
    "    data_train.to_sql(name='train', con=con, if_exists=\"replace\")\n",
    "    data_test.to_sql(name='test', con=con, if_exists=\"replace\")"
   ]
  },
  {
   "cell_type": "code",
   "execution_count": 48,
   "metadata": {},
   "outputs": [
    {
     "name": "stdout",
     "output_type": "stream",
     "text": [
      "Reading train data from the database: /Users/souleymanedabone/Desktop/Estia/CI_CD/mlops/trafic_parterm/db/trafic_db.db\n"
     ]
    },
    {
     "data": {
      "text/plain": [
       "[(1053743,\n",
       "  'id0458976',\n",
       "  2,\n",
       "  '2016-06-29 18:21:02',\n",
       "  '2016-06-29 18:39:55',\n",
       "  1,\n",
       "  -73.86276245117188,\n",
       "  40.768821716308594,\n",
       "  -73.89170074462889,\n",
       "  40.74668884277344,\n",
       "  'N',\n",
       "  1133),\n",
       " (273748,\n",
       "  'id0434613',\n",
       "  2,\n",
       "  '2016-04-25 13:03:26',\n",
       "  '2016-04-25 13:18:13',\n",
       "  1,\n",
       "  -73.95803833007811,\n",
       "  40.78323745727539,\n",
       "  -73.97550964355469,\n",
       "  40.7608528137207,\n",
       "  'N',\n",
       "  887),\n",
       " (433988,\n",
       "  'id3809234',\n",
       "  2,\n",
       "  '2016-05-07 12:36:09',\n",
       "  '2016-05-07 12:47:35',\n",
       "  1,\n",
       "  -73.96945953369139,\n",
       "  40.78551864624024,\n",
       "  -73.98924255371094,\n",
       "  40.77174758911133,\n",
       "  'N',\n",
       "  686)]"
      ]
     },
     "metadata": {},
     "output_type": "display_data"
    }
   ],
   "source": [
    "print(f\"Reading train data from the database: {common.DB_PATH}\")\n",
    "with sqlite3.connect(common.DB_PATH) as con:\n",
    "    cur = con.cursor()\n",
    "    res = cur.execute(\"SELECT * FROM train LIMIT 3\")\n",
    "    display(res.fetchall())"
   ]
  }
 ],
 "metadata": {
  "kernelspec": {
   "display_name": "Python 3",
   "language": "python",
   "name": "python3"
  },
  "language_info": {
   "codemirror_mode": {
    "name": "ipython",
    "version": 3
   },
   "file_extension": ".py",
   "mimetype": "text/x-python",
   "name": "python",
   "nbconvert_exporter": "python",
   "pygments_lexer": "ipython3",
   "version": "3.10.8"
  }
 },
 "nbformat": 4,
 "nbformat_minor": 2
}
