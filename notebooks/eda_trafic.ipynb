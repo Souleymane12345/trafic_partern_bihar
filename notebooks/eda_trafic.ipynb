{
 "cells": [
  {
   "cell_type": "code",
   "execution_count": 52,
   "metadata": {},
   "outputs": [],
   "source": [
    "import pandas as pd\n",
    "import numpy as np\n",
    "import matplotlib.pyplot as plt\n",
    "import seaborn as sns\n",
    "import os\n",
    "\n",
    "%matplotlib inline\n",
    "\n",
    "# some settings for graphics\n",
    "sns.set_style(\"dark\")\n",
    "sns.set(rc={'figure.figsize':(12,4)})\n",
    "\n",
    "# use this value where it is possible to indicate the random state\n",
    "RANDOM_STATE = 42"
   ]
  },
  {
   "cell_type": "code",
   "execution_count": 49,
   "metadata": {},
   "outputs": [],
   "source": [
    "import sys  \n",
    "sys.path.insert(1, '..')"
   ]
  },
  {
   "cell_type": "code",
   "execution_count": 31,
   "metadata": {},
   "outputs": [],
   "source": [
    "import common"
   ]
  },
  {
   "cell_type": "code",
   "execution_count": 53,
   "metadata": {},
   "outputs": [],
   "source": [
    "%%capture\n",
    "!wget https://github.com/eishkina-estia/ML2023/raw/main/data/New_York_City_Taxi_Trip_Duration.zip"
   ]
  },
  {
   "cell_type": "code",
   "execution_count": 54,
   "metadata": {},
   "outputs": [],
   "source": [
    "path = 'New_York_City_Taxi_Trip_Duration.zip'\n",
    "data = pd.read_csv(path, compression='zip')\n",
    "os.remove(path)"
   ]
  },
  {
   "cell_type": "code",
   "execution_count": 55,
   "metadata": {},
   "outputs": [],
   "source": [
    "from prepocess.data_preprocess import pickup_datetime\n",
    "data = pickup_datetime(data)\n"
   ]
  },
  {
   "cell_type": "code",
   "execution_count": 56,
   "metadata": {},
   "outputs": [
    {
     "data": {
      "text/plain": [
       "(1021050, 11)"
      ]
     },
     "metadata": {},
     "output_type": "display_data"
    },
    {
     "data": {
      "text/plain": [
       "(437594, 11)"
      ]
     },
     "metadata": {},
     "output_type": "display_data"
    }
   ],
   "source": [
    "from sklearn.model_selection import train_test_split\n",
    "\n",
    "X = data.drop(columns=['trip_duration'])\n",
    "\n",
    "y = data['trip_duration']\n",
    "data_train, data_test = train_test_split(data, test_size=0.3, random_state=common.RANDOM_STATE)\n",
    "display(data_train.shape, data_test.shape)"
   ]
  },
  {
   "cell_type": "code",
   "execution_count": 57,
   "metadata": {},
   "outputs": [
    {
     "data": {
      "text/html": [
       "<div>\n",
       "<style scoped>\n",
       "    .dataframe tbody tr th:only-of-type {\n",
       "        vertical-align: middle;\n",
       "    }\n",
       "\n",
       "    .dataframe tbody tr th {\n",
       "        vertical-align: top;\n",
       "    }\n",
       "\n",
       "    .dataframe thead th {\n",
       "        text-align: right;\n",
       "    }\n",
       "</style>\n",
       "<table border=\"1\" class=\"dataframe\">\n",
       "  <thead>\n",
       "    <tr style=\"text-align: right;\">\n",
       "      <th></th>\n",
       "      <th>id</th>\n",
       "      <th>vendor_id</th>\n",
       "      <th>pickup_datetime</th>\n",
       "      <th>dropoff_datetime</th>\n",
       "      <th>passenger_count</th>\n",
       "      <th>pickup_longitude</th>\n",
       "      <th>pickup_latitude</th>\n",
       "      <th>dropoff_longitude</th>\n",
       "      <th>dropoff_latitude</th>\n",
       "      <th>store_and_fwd_flag</th>\n",
       "      <th>trip_duration</th>\n",
       "    </tr>\n",
       "  </thead>\n",
       "  <tbody>\n",
       "    <tr>\n",
       "      <th>1011257</th>\n",
       "      <td>id2209155</td>\n",
       "      <td>2</td>\n",
       "      <td>2016-05-03 09:03:08</td>\n",
       "      <td>2016-05-03 09:17:12</td>\n",
       "      <td>2</td>\n",
       "      <td>-73.979813</td>\n",
       "      <td>40.752529</td>\n",
       "      <td>-73.982681</td>\n",
       "      <td>40.763680</td>\n",
       "      <td>N</td>\n",
       "      <td>844</td>\n",
       "    </tr>\n",
       "    <tr>\n",
       "      <th>178550</th>\n",
       "      <td>id0586605</td>\n",
       "      <td>1</td>\n",
       "      <td>2016-01-01 16:40:51</td>\n",
       "      <td>2016-01-01 16:57:32</td>\n",
       "      <td>1</td>\n",
       "      <td>-73.977623</td>\n",
       "      <td>40.746296</td>\n",
       "      <td>-73.968414</td>\n",
       "      <td>40.788933</td>\n",
       "      <td>N</td>\n",
       "      <td>1001</td>\n",
       "    </tr>\n",
       "    <tr>\n",
       "      <th>551460</th>\n",
       "      <td>id0467144</td>\n",
       "      <td>1</td>\n",
       "      <td>2016-04-24 13:57:03</td>\n",
       "      <td>2016-04-24 14:14:31</td>\n",
       "      <td>1</td>\n",
       "      <td>-73.950699</td>\n",
       "      <td>40.779404</td>\n",
       "      <td>-73.863129</td>\n",
       "      <td>40.768608</td>\n",
       "      <td>N</td>\n",
       "      <td>1048</td>\n",
       "    </tr>\n",
       "    <tr>\n",
       "      <th>1434271</th>\n",
       "      <td>id0989010</td>\n",
       "      <td>2</td>\n",
       "      <td>2016-01-10 17:03:47</td>\n",
       "      <td>2016-01-10 17:16:51</td>\n",
       "      <td>1</td>\n",
       "      <td>-73.984558</td>\n",
       "      <td>40.721802</td>\n",
       "      <td>-73.976753</td>\n",
       "      <td>40.752213</td>\n",
       "      <td>N</td>\n",
       "      <td>784</td>\n",
       "    </tr>\n",
       "    <tr>\n",
       "      <th>1173610</th>\n",
       "      <td>id0580742</td>\n",
       "      <td>1</td>\n",
       "      <td>2016-02-25 17:37:36</td>\n",
       "      <td>2016-02-25 17:49:48</td>\n",
       "      <td>1</td>\n",
       "      <td>-73.967720</td>\n",
       "      <td>40.768742</td>\n",
       "      <td>-73.977173</td>\n",
       "      <td>40.789875</td>\n",
       "      <td>N</td>\n",
       "      <td>732</td>\n",
       "    </tr>\n",
       "    <tr>\n",
       "      <th>...</th>\n",
       "      <td>...</td>\n",
       "      <td>...</td>\n",
       "      <td>...</td>\n",
       "      <td>...</td>\n",
       "      <td>...</td>\n",
       "      <td>...</td>\n",
       "      <td>...</td>\n",
       "      <td>...</td>\n",
       "      <td>...</td>\n",
       "      <td>...</td>\n",
       "      <td>...</td>\n",
       "    </tr>\n",
       "    <tr>\n",
       "      <th>259178</th>\n",
       "      <td>id1753868</td>\n",
       "      <td>2</td>\n",
       "      <td>2016-03-25 07:11:49</td>\n",
       "      <td>2016-03-25 07:33:10</td>\n",
       "      <td>2</td>\n",
       "      <td>-73.955032</td>\n",
       "      <td>40.777328</td>\n",
       "      <td>-74.006203</td>\n",
       "      <td>40.749424</td>\n",
       "      <td>N</td>\n",
       "      <td>1281</td>\n",
       "    </tr>\n",
       "    <tr>\n",
       "      <th>1414414</th>\n",
       "      <td>id2204747</td>\n",
       "      <td>1</td>\n",
       "      <td>2016-02-16 18:01:45</td>\n",
       "      <td>2016-02-16 18:15:38</td>\n",
       "      <td>1</td>\n",
       "      <td>-73.973618</td>\n",
       "      <td>40.763920</td>\n",
       "      <td>-73.983849</td>\n",
       "      <td>40.749874</td>\n",
       "      <td>N</td>\n",
       "      <td>833</td>\n",
       "    </tr>\n",
       "    <tr>\n",
       "      <th>131932</th>\n",
       "      <td>id3043606</td>\n",
       "      <td>2</td>\n",
       "      <td>2016-01-26 19:22:29</td>\n",
       "      <td>2016-01-26 19:43:54</td>\n",
       "      <td>1</td>\n",
       "      <td>-74.006195</td>\n",
       "      <td>40.734283</td>\n",
       "      <td>-73.949608</td>\n",
       "      <td>40.785282</td>\n",
       "      <td>N</td>\n",
       "      <td>1285</td>\n",
       "    </tr>\n",
       "    <tr>\n",
       "      <th>671155</th>\n",
       "      <td>id1458584</td>\n",
       "      <td>1</td>\n",
       "      <td>2016-01-19 11:53:47</td>\n",
       "      <td>2016-01-19 12:00:16</td>\n",
       "      <td>1</td>\n",
       "      <td>-73.962341</td>\n",
       "      <td>40.767323</td>\n",
       "      <td>-73.969757</td>\n",
       "      <td>40.768669</td>\n",
       "      <td>N</td>\n",
       "      <td>389</td>\n",
       "    </tr>\n",
       "    <tr>\n",
       "      <th>121958</th>\n",
       "      <td>id0357025</td>\n",
       "      <td>2</td>\n",
       "      <td>2016-02-10 22:39:31</td>\n",
       "      <td>2016-02-10 23:05:41</td>\n",
       "      <td>1</td>\n",
       "      <td>-73.874649</td>\n",
       "      <td>40.774071</td>\n",
       "      <td>-74.004242</td>\n",
       "      <td>40.746899</td>\n",
       "      <td>N</td>\n",
       "      <td>1570</td>\n",
       "    </tr>\n",
       "  </tbody>\n",
       "</table>\n",
       "<p>1021050 rows × 11 columns</p>\n",
       "</div>"
      ],
      "text/plain": [
       "                id  vendor_id     pickup_datetime     dropoff_datetime  \\\n",
       "1011257  id2209155          2 2016-05-03 09:03:08  2016-05-03 09:17:12   \n",
       "178550   id0586605          1 2016-01-01 16:40:51  2016-01-01 16:57:32   \n",
       "551460   id0467144          1 2016-04-24 13:57:03  2016-04-24 14:14:31   \n",
       "1434271  id0989010          2 2016-01-10 17:03:47  2016-01-10 17:16:51   \n",
       "1173610  id0580742          1 2016-02-25 17:37:36  2016-02-25 17:49:48   \n",
       "...            ...        ...                 ...                  ...   \n",
       "259178   id1753868          2 2016-03-25 07:11:49  2016-03-25 07:33:10   \n",
       "1414414  id2204747          1 2016-02-16 18:01:45  2016-02-16 18:15:38   \n",
       "131932   id3043606          2 2016-01-26 19:22:29  2016-01-26 19:43:54   \n",
       "671155   id1458584          1 2016-01-19 11:53:47  2016-01-19 12:00:16   \n",
       "121958   id0357025          2 2016-02-10 22:39:31  2016-02-10 23:05:41   \n",
       "\n",
       "         passenger_count  pickup_longitude  pickup_latitude  \\\n",
       "1011257                2        -73.979813        40.752529   \n",
       "178550                 1        -73.977623        40.746296   \n",
       "551460                 1        -73.950699        40.779404   \n",
       "1434271                1        -73.984558        40.721802   \n",
       "1173610                1        -73.967720        40.768742   \n",
       "...                  ...               ...              ...   \n",
       "259178                 2        -73.955032        40.777328   \n",
       "1414414                1        -73.973618        40.763920   \n",
       "131932                 1        -74.006195        40.734283   \n",
       "671155                 1        -73.962341        40.767323   \n",
       "121958                 1        -73.874649        40.774071   \n",
       "\n",
       "         dropoff_longitude  dropoff_latitude store_and_fwd_flag  trip_duration  \n",
       "1011257         -73.982681         40.763680                  N            844  \n",
       "178550          -73.968414         40.788933                  N           1001  \n",
       "551460          -73.863129         40.768608                  N           1048  \n",
       "1434271         -73.976753         40.752213                  N            784  \n",
       "1173610         -73.977173         40.789875                  N            732  \n",
       "...                    ...               ...                ...            ...  \n",
       "259178          -74.006203         40.749424                  N           1281  \n",
       "1414414         -73.983849         40.749874                  N            833  \n",
       "131932          -73.949608         40.785282                  N           1285  \n",
       "671155          -73.969757         40.768669                  N            389  \n",
       "121958          -74.004242         40.746899                  N           1570  \n",
       "\n",
       "[1021050 rows x 11 columns]"
      ]
     },
     "execution_count": 57,
     "metadata": {},
     "output_type": "execute_result"
    }
   ],
   "source": [
    "data_train"
   ]
  },
  {
   "cell_type": "code",
   "execution_count": 63,
   "metadata": {},
   "outputs": [
    {
     "name": "stdout",
     "output_type": "stream",
     "text": [
      "Saving train and test data to a database: /Users/souleymanedabone/Desktop/Estia/CI_CD/mlops/trafic_parterm/db/trafic_db.db\n"
     ]
    }
   ],
   "source": [
    "import sqlite3\n",
    "import os\n",
    "\n",
    "db_dir = os.path.dirname(common.DB_PATH)\n",
    "if not os.path.exists(db_dir):\n",
    "    os.makedirs(db_dir)\n",
    "\n",
    "print(f\"Saving train and test data to a database: {common.DB_PATH}\")\n",
    "with sqlite3.connect(common.DB_PATH) as con:\n",
    "    # cur = con.cursor()\n",
    "    # cur.execute(\"DROP TABLE IF EXISTS train\")\n",
    "    # cur.execute(\"DROP TABLE IF EXISTS test\")\n",
    "    data_train.to_sql(name='train', con=con, if_exists=\"replace\")\n",
    "    data_test.to_sql(name='test', con=con, if_exists=\"replace\")"
   ]
  },
  {
   "cell_type": "code",
   "execution_count": 60,
   "metadata": {},
   "outputs": [
    {
     "name": "stdout",
     "output_type": "stream",
     "text": [
      "Reading train data from the database: /Users/souleymanedabone/Desktop/Estia/CI_CD/mlops/trafic_parterm/db/trafic_db.db\n"
     ]
    },
    {
     "data": {
      "text/plain": [
       "[(1011257,\n",
       "  'id2209155',\n",
       "  2,\n",
       "  '2016-05-03 09:03:08',\n",
       "  '2016-05-03 09:17:12',\n",
       "  2,\n",
       "  -73.9798126220703,\n",
       "  40.75252914428711,\n",
       "  -73.98268127441406,\n",
       "  40.76367950439453,\n",
       "  'N',\n",
       "  844),\n",
       " (178550,\n",
       "  'id0586605',\n",
       "  1,\n",
       "  '2016-01-01 16:40:51',\n",
       "  '2016-01-01 16:57:32',\n",
       "  1,\n",
       "  -73.97762298583984,\n",
       "  40.74629592895508,\n",
       "  -73.96841430664062,\n",
       "  40.78893280029297,\n",
       "  'N',\n",
       "  1001),\n",
       " (551460,\n",
       "  'id0467144',\n",
       "  1,\n",
       "  '2016-04-24 13:57:03',\n",
       "  '2016-04-24 14:14:31',\n",
       "  1,\n",
       "  -73.95069885253906,\n",
       "  40.77940368652344,\n",
       "  -73.86312866210938,\n",
       "  40.76860809326172,\n",
       "  'N',\n",
       "  1048)]"
      ]
     },
     "metadata": {},
     "output_type": "display_data"
    }
   ],
   "source": [
    "print(f\"Reading train data from the database: {common.DB_PATH}\")\n",
    "with sqlite3.connect(common.DB_PATH) as con:\n",
    "    cur = con.cursor()\n",
    "    res = cur.execute(\"SELECT * FROM train LIMIT 3\")\n",
    "    display(res.fetchall())"
   ]
  }
 ],
 "metadata": {
  "kernelspec": {
   "display_name": "Python 3",
   "language": "python",
   "name": "python3"
  },
  "language_info": {
   "codemirror_mode": {
    "name": "ipython",
    "version": 3
   },
   "file_extension": ".py",
   "mimetype": "text/x-python",
   "name": "python",
   "nbconvert_exporter": "python",
   "pygments_lexer": "ipython3",
   "version": "3.10.8"
  }
 },
 "nbformat": 4,
 "nbformat_minor": 2
}
